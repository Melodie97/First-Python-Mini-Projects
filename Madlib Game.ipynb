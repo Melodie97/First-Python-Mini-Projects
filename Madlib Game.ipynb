{
 "cells": [
  {
   "cell_type": "code",
   "execution_count": 1,
   "metadata": {},
   "outputs": [
    {
     "name": "stdout",
     "output_type": "stream",
     "text": [
      "Please insert name of a place: Maldives\n",
      "Please insert a name of a person: Promise\n",
      "Please insert a name of a celebrity: Drake\n",
      "Please insert a verb: leave\n",
      "I used to go to Maldives to see Promise for love\n",
      "but nowadays i go to Drake to leave\n"
     ]
    }
   ],
   "source": [
    "place = input ('Please insert name of a place: ')\n",
    "name = input ('Please insert a name of a person: ')\n",
    "celebrity = input ('Please insert a name of a celebrity: ')\n",
    "verb = input ('Please insert a verb: ')\n",
    "\n",
    "print ('I used to go to',place,'to see',name, 'for love')\n",
    "print ('but nowadays i go to', celebrity, 'to',verb)"
   ]
  }
 ],
 "metadata": {
  "kernelspec": {
   "display_name": "Python 3",
   "language": "python",
   "name": "python3"
  },
  "language_info": {
   "codemirror_mode": {
    "name": "ipython",
    "version": 3
   },
   "file_extension": ".py",
   "mimetype": "text/x-python",
   "name": "python",
   "nbconvert_exporter": "python",
   "pygments_lexer": "ipython3",
   "version": "3.8.5"
  }
 },
 "nbformat": 4,
 "nbformat_minor": 4
}
