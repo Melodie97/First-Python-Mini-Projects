{
 "cells": [
  {
   "cell_type": "code",
   "execution_count": 4,
   "metadata": {},
   "outputs": [],
   "source": [
    "#Create a BMI function\n",
    "# need weight\n",
    "# need height"
   ]
  },
  {
   "cell_type": "code",
   "execution_count": 5,
   "metadata": {},
   "outputs": [],
   "source": [
    "def bmi():\n",
    "    weight = int(input('Please enter your weight in Kg'))\n",
    "    height = float(input('Please enter your height in feet'))\n",
    "    \n",
    "    # Converting height to meters\n",
    "    height = height / 3.281\n",
    "    #Calculating the BMI\n",
    "    bmi_val = weight/(height**2)\n",
    "    \n",
    "    #rounding up\n",
    "    bmi_val = round (bmi_val,3)\n",
    "    \n",
    "    #Inputting a minimum value\n",
    "    if bmi_val < 18.5:\n",
    "        print('You are underweight')\n",
    "    elif bmi_val > 25:\n",
    "        print('You are overweight')\n",
    "    else:\n",
    "        print('Your BMI is normal')\n",
    "        return 'Your BMI is' + str(bmi_val)"
   ]
  },
  {
   "cell_type": "code",
   "execution_count": 3,
   "metadata": {},
   "outputs": [
    {
     "name": "stdout",
     "output_type": "stream",
     "text": [
      "Please enter your weight in Kg65\n",
      "Please enter your height in feet5.9\n",
      "Your BMI is normal\n"
     ]
    },
    {
     "data": {
      "text/plain": [
       "'Your BMI is20.101'"
      ]
     },
     "execution_count": 3,
     "metadata": {},
     "output_type": "execute_result"
    }
   ],
   "source": [
    "bmi()"
   ]
  }
 ],
 "metadata": {
  "kernelspec": {
   "display_name": "Python 3",
   "language": "python",
   "name": "python3"
  },
  "language_info": {
   "codemirror_mode": {
    "name": "ipython",
    "version": 3
   },
   "file_extension": ".py",
   "mimetype": "text/x-python",
   "name": "python",
   "nbconvert_exporter": "python",
   "pygments_lexer": "ipython3",
   "version": "3.8.5"
  }
 },
 "nbformat": 4,
 "nbformat_minor": 4
}
